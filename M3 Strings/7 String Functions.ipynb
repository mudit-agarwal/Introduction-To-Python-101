{
 "cells": [
  {
   "cell_type": "markdown",
   "metadata": {},
   "source": [
    "### 1) Basic Array Indexing "
   ]
  },
  {
   "cell_type": "markdown",
   "metadata": {},
   "source": [
    "Python Program to Access \n",
    "characters of String "
   ]
  },
  {
   "cell_type": "code",
   "execution_count": 54,
   "metadata": {},
   "outputs": [
    {
     "name": "stdout",
     "output_type": "stream",
     "text": [
      "Initial String: \n",
      "GeeksForGeeks\n",
      "\n",
      "First character of String is: \n",
      "G\n",
      "\n",
      "Last character of String is: \n",
      "s\n",
      "\n",
      "Second Last character of String is: \n",
      "k\n"
     ]
    }
   ],
   "source": [
    "String1 = \"GeeksForGeeks\"\n",
    "print(\"Initial String: \") \n",
    "print(String1) \n",
    "  \n",
    "print(\"\\nFirst character of String is: \") \n",
    "print(String1[0]) \n",
    "  \n",
    "print(\"\\nLast character of String is: \") \n",
    "print(String1[-1])\n",
    "\n",
    "print(\"\\nSecond Last character of String is: \") \n",
    "print(String1[-2])"
   ]
  },
  {
   "cell_type": "markdown",
   "metadata": {},
   "source": [
    "### 2) Slicing in Strings"
   ]
  },
  {
   "cell_type": "markdown",
   "metadata": {},
   "source": [
    "A python program to illustrate \n",
    "print substrings of a string "
   ]
  },
  {
   "cell_type": "code",
   "execution_count": 55,
   "metadata": {},
   "outputs": [
    {
     "name": "stdout",
     "output_type": "stream",
     "text": [
      "lco\n",
      "lcome to GeeksforGeeks\n",
      "Welco\n",
      "Welcome to GeeksforGeeks\n",
      "oet\n",
      "Ge\n"
     ]
    }
   ],
   "source": [
    "x = \"Welcome to GeeksforGeeks\"\n",
    "\n",
    "print(x[2:5])\n",
    "\n",
    "print(x[2:])\n",
    "\n",
    "print(x[:5])\n",
    "\n",
    "print(x[:])\n",
    "  \n",
    "print (x[4:10:2])     \n",
    "  \n",
    "print (x[-5:-3])   "
   ]
  },
  {
   "cell_type": "markdown",
   "metadata": {},
   "source": [
    "### 3) Length of a string and to count how many times a substring occours in a string"
   ]
  },
  {
   "cell_type": "code",
   "execution_count": 73,
   "metadata": {},
   "outputs": [
    {
     "name": "stdout",
     "output_type": "stream",
     "text": [
      " The length of string is :  26\n",
      " Number of appearance of geeks is : 2\n"
     ]
    }
   ],
   "source": [
    "str = \"geeksforgeeks is for geeks\"\n",
    "\n",
    "print (\" The length of string is : \", len(str)); \n",
    "\n",
    "print (\" Number of appearance of \"\"geeks\"\" is : \",end=\"\") \n",
    "print (str.count(\"geeks\",0,15)) "
   ]
  },
  {
   "cell_type": "markdown",
   "metadata": {},
   "source": [
    "### Split Function"
   ]
  },
  {
   "cell_type": "code",
   "execution_count": 76,
   "metadata": {},
   "outputs": [
    {
     "data": {
      "text/plain": [
       "['this', 'is', 'a', 'string']"
      ]
     },
     "execution_count": 76,
     "metadata": {},
     "output_type": "execute_result"
    }
   ],
   "source": [
    "s = \"this is a string\"\n",
    "s.split()"
   ]
  },
  {
   "cell_type": "code",
   "execution_count": 77,
   "metadata": {},
   "outputs": [
    {
     "data": {
      "text/plain": [
       "['th', ' ', ' a string']"
      ]
     },
     "execution_count": 77,
     "metadata": {},
     "output_type": "execute_result"
    }
   ],
   "source": [
    "s.split('is')"
   ]
  },
  {
   "cell_type": "markdown",
   "metadata": {},
   "source": [
    "### To reverse a String"
   ]
  },
  {
   "cell_type": "code",
   "execution_count": 80,
   "metadata": {},
   "outputs": [
    {
     "data": {
      "text/plain": [
       "'cba'"
      ]
     },
     "execution_count": 80,
     "metadata": {},
     "output_type": "execute_result"
    }
   ],
   "source": [
    "s=\"abc\"\n",
    "s[::-1]"
   ]
  },
  {
   "cell_type": "markdown",
   "metadata": {},
   "source": [
    "### 4) Minimum charachter and Maximum Charachter of a String"
   ]
  },
  {
   "cell_type": "code",
   "execution_count": 57,
   "metadata": {},
   "outputs": [
    {
     "name": "stdout",
     "output_type": "stream",
     "text": [
      "The minimum value character is : e\n",
      "The maximum value character is : s\n"
     ]
    }
   ],
   "source": [
    "str = \"geeksforgeeks\"\n",
    "print (\"The minimum value character is : \" + min(str)) \n",
    "print (\"The maximum value character is : \" + max(str)) "
   ]
  },
  {
   "cell_type": "markdown",
   "metadata": {},
   "source": [
    "### 5) Replace Substring"
   ]
  },
  {
   "cell_type": "code",
   "execution_count": 58,
   "metadata": {},
   "outputs": [
    {
     "name": "stdout",
     "output_type": "stream",
     "text": [
      "The string after replacing strings is : geeksforgeeks is for nerds\n"
     ]
    }
   ],
   "source": [
    "str = \"nerdsfornerds is for nerds\"\n",
    "\n",
    "str1 = \"nerds\"\n",
    "str2 = \"geeks\"\n",
    " \n",
    "print (\"The string after replacing strings is : \", end=\"\") \n",
    "print (str.replace( str1, str2, 2)) "
   ]
  },
  {
   "cell_type": "markdown",
   "metadata": {},
   "source": [
    "### 6) Substring Finding ans Startswith/Endswith"
   ]
  },
  {
   "cell_type": "code",
   "execution_count": 59,
   "metadata": {},
   "outputs": [
    {
     "name": "stdout",
     "output_type": "stream",
     "text": [
      "The first occurrence of str2 is at : 8\n",
      "The last occurrence of str2 is at : 21\n"
     ]
    }
   ],
   "source": [
    "str = \"geeksforgeeks is for geeks\"\n",
    "str2 = \"geeks\"\n",
    "\n",
    "print (\"The first occurrence of str2 is at : \", end=\"\") \n",
    "print (str.find( str2, 4) ) \n",
    "\n",
    "print (\"The last occurrence of str2 is at : \", end=\"\") \n",
    "print ( str.rfind( str2, 4) ) \n"
   ]
  },
  {
   "cell_type": "code",
   "execution_count": 60,
   "metadata": {},
   "outputs": [
    {
     "name": "stdout",
     "output_type": "stream",
     "text": [
      "str1 begins with : geeks\n",
      "str1 does not end with : geeks\n"
     ]
    }
   ],
   "source": [
    "str = \"geeks\"\n",
    "str1 = \"geeksforgeeksportal\"\n",
    "\n",
    "if str1.startswith(str):\n",
    "    print (\"str1 begins with : \" + str) \n",
    "else : print (\"str1 does not begin with : \"+ str) \n",
    " \n",
    "if str1.endswith(str): \n",
    "   print (\"str1 ends with : \" + str) \n",
    "else : print (\"str1 does not end with : \" + str)"
   ]
  },
  {
   "cell_type": "markdown",
   "metadata": {},
   "source": [
    "### 7) Checking Upper/lower/Conversion"
   ]
  },
  {
   "cell_type": "code",
   "execution_count": 61,
   "metadata": {},
   "outputs": [
    {
     "name": "stdout",
     "output_type": "stream",
     "text": [
      "All characters in str are not upper cased\n",
      "All characters in str1 are lower cased\n"
     ]
    }
   ],
   "source": [
    "str = \"GeeksforGeeks\"\n",
    "str1 = \"geeks\"\n",
    "\n",
    "if str.isupper() : \n",
    "\tprint (\"All characters in str are upper cased\") \n",
    "else : print (\"All characters in str are not upper cased\") \n",
    "\n",
    "if str1.islower() : \n",
    "\tprint (\"All characters in str1 are lower cased\") \n",
    "else : print (\"All characters in str1 are not lower cased\") "
   ]
  },
  {
   "cell_type": "code",
   "execution_count": 62,
   "metadata": {},
   "outputs": [
    {
     "name": "stdout",
     "output_type": "stream",
     "text": [
      " The lower case converted string is : geeksforgeeks is for geeks\n",
      " The upper case converted string is : geeks\n",
      " The swap case converted string is : gEEKSfORgEEKS IS FoR gEEkS\n",
      " The title case converted string is : Geeksforgeeks Is For Geeks\n"
     ]
    }
   ],
   "source": [
    "str = \"GeeksForGeeks is fOr GeeKs\"\n",
    "\n",
    "str1 = str.lower(); \n",
    "print (\" The lower case converted string is : \" + str1) \n",
    "\n",
    "print (\" The upper case converted string is : \" + str2) \n",
    "\n",
    "str3 = str.swapcase(); \n",
    "print (\" The swap case converted string is : \" + str3) \n",
    "\n",
    "str4 = str.title(); \n",
    "print (\" The title case converted string is : \" + str4) "
   ]
  },
  {
   "cell_type": "markdown",
   "metadata": {},
   "source": [
    "### 8) Is Alpha,Num,Space"
   ]
  },
  {
   "cell_type": "code",
   "execution_count": 63,
   "metadata": {},
   "outputs": [
    {
     "name": "stdout",
     "output_type": "stream",
     "text": [
      "All characters are alphabets in str\n",
      "All characters are numbers in str1\n",
      "All characters are not spaces in str1\n"
     ]
    }
   ],
   "source": [
    "str = \"geeksforgeeks\"\n",
    "str1 = \"123\"\n",
    "\n",
    "if (str.isalpha()): \n",
    "    print (\"All characters are alphabets in str\") \n",
    "else : print (\"All characters are not alphabets in str\") \n",
    "\n",
    "if (str1.isalnum()): \n",
    "    print (\"All characters are numbers in str1\") \n",
    "else : print (\"All characters are not numbers in str1\") \n",
    "\n",
    "if (str1.isspace()): \n",
    "    print (\"All characters are spaces in str1\") \n",
    "else : print (\"All characters are not spaces in str1\") "
   ]
  },
  {
   "cell_type": "markdown",
   "metadata": {},
   "source": [
    "### 9) String Concatation\n",
    "\n",
    "String Concantation is Simple as well"
   ]
  },
  {
   "cell_type": "code",
   "execution_count": 64,
   "metadata": {},
   "outputs": [
    {
     "data": {
      "text/plain": [
       "'abcdefgh'"
      ]
     },
     "execution_count": 64,
     "metadata": {},
     "output_type": "execute_result"
    }
   ],
   "source": [
    "a=\"abcd\"\n",
    "b=\"efgh\"\n",
    "a+b"
   ]
  },
  {
   "cell_type": "code",
   "execution_count": 65,
   "metadata": {},
   "outputs": [
    {
     "name": "stdout",
     "output_type": "stream",
     "text": [
      "abcdefgh\n"
     ]
    }
   ],
   "source": [
    "a=a+b\n",
    "print(a)"
   ]
  },
  {
   "cell_type": "markdown",
   "metadata": {},
   "source": [
    "### 10) String Comparision"
   ]
  },
  {
   "cell_type": "code",
   "execution_count": 2,
   "metadata": {},
   "outputs": [],
   "source": [
    "a=\"abcd\"\n",
    "b=\"efgh\""
   ]
  },
  {
   "cell_type": "code",
   "execution_count": 3,
   "metadata": {},
   "outputs": [
    {
     "data": {
      "text/plain": [
       "False"
      ]
     },
     "execution_count": 3,
     "metadata": {},
     "output_type": "execute_result"
    }
   ],
   "source": [
    "a==b"
   ]
  },
  {
   "cell_type": "code",
   "execution_count": 4,
   "metadata": {},
   "outputs": [
    {
     "data": {
      "text/plain": [
       "False"
      ]
     },
     "execution_count": 4,
     "metadata": {},
     "output_type": "execute_result"
    }
   ],
   "source": [
    "a>b"
   ]
  },
  {
   "cell_type": "code",
   "execution_count": 5,
   "metadata": {},
   "outputs": [
    {
     "data": {
      "text/plain": [
       "True"
      ]
     },
     "execution_count": 5,
     "metadata": {},
     "output_type": "execute_result"
    }
   ],
   "source": [
    "b>a"
   ]
  },
  {
   "cell_type": "code",
   "execution_count": 6,
   "metadata": {},
   "outputs": [],
   "source": [
    "a=\"abcd\"\n",
    "b=\"Abcd\""
   ]
  },
  {
   "cell_type": "code",
   "execution_count": 7,
   "metadata": {},
   "outputs": [
    {
     "data": {
      "text/plain": [
       "False"
      ]
     },
     "execution_count": 7,
     "metadata": {},
     "output_type": "execute_result"
    }
   ],
   "source": [
    "a==b"
   ]
  },
  {
   "cell_type": "code",
   "execution_count": 8,
   "metadata": {},
   "outputs": [
    {
     "data": {
      "text/plain": [
       "True"
      ]
     },
     "execution_count": 8,
     "metadata": {},
     "output_type": "execute_result"
    }
   ],
   "source": [
    "a>b"
   ]
  },
  {
   "cell_type": "markdown",
   "metadata": {},
   "source": [
    "Note : All Small Letters are greater than capital letter. Hence They will always be greater\n",
    "    For eg a>A"
   ]
  },
  {
   "cell_type": "code",
   "execution_count": 12,
   "metadata": {},
   "outputs": [
    {
     "data": {
      "text/plain": [
       "True"
      ]
     },
     "execution_count": 12,
     "metadata": {},
     "output_type": "execute_result"
    }
   ],
   "source": [
    "a=\"oh my god\"\n",
    "\"od\" in a"
   ]
  }
 ],
 "metadata": {
  "kernelspec": {
   "display_name": "Python 3",
   "language": "python",
   "name": "python3"
  },
  "language_info": {
   "codemirror_mode": {
    "name": "ipython",
    "version": 3
   },
   "file_extension": ".py",
   "mimetype": "text/x-python",
   "name": "python",
   "nbconvert_exporter": "python",
   "pygments_lexer": "ipython3",
   "version": "3.6.4"
  }
 },
 "nbformat": 4,
 "nbformat_minor": 2
}
