{
 "cells": [
  {
   "cell_type": "markdown",
   "metadata": {},
   "source": [
    "### Functions are passed normally as in C++, even lists are passed as normal variables"
   ]
  },
  {
   "cell_type": "code",
   "execution_count": 6,
   "metadata": {},
   "outputs": [
    {
     "name": "stdout",
     "output_type": "stream",
     "text": [
      "15\n"
     ]
    }
   ],
   "source": [
    "def sum(n):\n",
    "    sw = 0\n",
    "    for i in n:\n",
    "        sw = sw + i\n",
    "    return sw\n",
    "\n",
    "a = [1,2,3,4,5]\n",
    "sumation = sum(a)\n",
    "print(sumation)"
   ]
  },
  {
   "cell_type": "markdown",
   "metadata": {},
   "source": [
    "### Default Parameter\n",
    "Same as normal C++"
   ]
  },
  {
   "cell_type": "code",
   "execution_count": 5,
   "metadata": {},
   "outputs": [
    {
     "name": "stdout",
     "output_type": "stream",
     "text": [
      "10\n",
      "11\n",
      "9\n",
      "8\n"
     ]
    }
   ],
   "source": [
    "def function(a,b,c=1,d=5):\n",
    "    return a+b+c+d\n",
    "print(function(1,2,3,4))\n",
    "print(function(1,2,3))\n",
    "print(function(1,2))\n",
    "print(function(1,2,d=4))"
   ]
  }
 ],
 "metadata": {
  "kernelspec": {
   "display_name": "Python 3",
   "language": "python",
   "name": "python3"
  },
  "language_info": {
   "codemirror_mode": {
    "name": "ipython",
    "version": 3
   },
   "file_extension": ".py",
   "mimetype": "text/x-python",
   "name": "python",
   "nbconvert_exporter": "python",
   "pygments_lexer": "ipython3",
   "version": "3.6.4"
  }
 },
 "nbformat": 4,
 "nbformat_minor": 2
}
